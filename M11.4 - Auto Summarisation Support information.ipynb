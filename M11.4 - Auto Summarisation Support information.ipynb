{
 "cells": [
  {
   "cell_type": "code",
   "execution_count": 2,
   "metadata": {
    "collapsed": true
   },
   "outputs": [],
   "source": [
    "# So, adding this file because we can elaborate on some of the functions of the previous script."
   ]
  },
  {
   "cell_type": "code",
   "execution_count": 14,
   "metadata": {},
   "outputs": [
    {
     "name": "stdout",
     "output_type": "stream",
     "text": [
      "defaultdict(<class 'int'>, {'field1': 1, 'field2': 2})\n",
      "1\n",
      "2\n",
      "0\n"
     ]
    }
   ],
   "source": [
    "# DefaultDict basically is a dictionary that will return a default value if the key is not found.\n",
    "from collections import defaultdict\n",
    "\n",
    "int_example = defaultdict(int)\n",
    "int_example['field1'] = 1\n",
    "int_example['field2'] = 2\n",
    "print( int_example )\n",
    "\n",
    "print( int_example['field1'] )\n",
    "print( int_example['field2'] )\n",
    "print( int_example['field3'] )"
   ]
  },
  {
   "cell_type": "code",
   "execution_count": 28,
   "metadata": {},
   "outputs": [
    {
     "name": "stdout",
     "output_type": "stream",
     "text": [
      "dict_items([('field1', 1), ('field2', 2), ('field3', 0)])\n",
      "1\n",
      "['field2', 'field1']\n"
     ]
    }
   ],
   "source": [
    "# nlargest is the way to quickly extract the largest items \n",
    "from heapq import nlargest\n",
    "\n",
    "# so, this returns an iterable list\n",
    "print( int_example.items() )\n",
    "# we want to order by the number here, which is obtained like this...\n",
    "print( int_example.get('field1') )\n",
    "\n",
    "# so we can call...\n",
    "# param1 - number to return\n",
    "# param2 - iterable object\n",
    "# param3 - optional - function, sans brackets, to get the item to sort by.\n",
    "print( nlargest( 2, int_example, key=int_example.get) )"
   ]
  },
  {
   "cell_type": "code",
   "execution_count": 1,
   "metadata": {},
   "outputs": [
    {
     "name": "stdout",
     "output_type": "stream",
     "text": [
      "first test fine\n",
      "second test failed\n"
     ]
    }
   ],
   "source": [
    "# we didn't touch on assert, which is being covered in the more detailed videos.\n",
    "# assert can be used to carry out a sanity check. An exception is thrown if the condition is not met.\n",
    "\n",
    "test_val = 5\n",
    "try:\n",
    "    assert test_val > 1\n",
    "    print('first test fine')\n",
    "except:\n",
    "    print('first test failed')\n",
    "    \n",
    "try:\n",
    "    assert test_val > 10\n",
    "    print('second test fine')\n",
    "except:\n",
    "    print('second test failed')"
   ]
  },
  {
   "cell_type": "code",
   "execution_count": 2,
   "metadata": {},
   "outputs": [
    {
     "name": "stdout",
     "output_type": "stream",
     "text": [
      "{1, 2, 3, 4, 5, 6}\n"
     ]
    }
   ],
   "source": [
    "# Experimenting with sets.\n",
    "example_set = set( [1,2,3] + [4,5,6] )\n",
    "print( example_set )"
   ]
  },
  {
   "cell_type": "code",
   "execution_count": 3,
   "metadata": {},
   "outputs": [
    {
     "name": "stdout",
     "output_type": "stream",
     "text": [
      "[1, 2, 3, 4, 5, 6]\n"
     ]
    }
   ],
   "source": [
    "second_example = [1,2,3] + [4,5,6]\n",
    "print( second_example )"
   ]
  },
  {
   "cell_type": "code",
   "execution_count": 7,
   "metadata": {},
   "outputs": [
    {
     "ename": "TypeError",
     "evalue": "unsupported operand type(s) for +: 'dict' and 'str'",
     "output_type": "error",
     "traceback": [
      "\u001b[1;31m---------------------------------------------------------------------------\u001b[0m",
      "\u001b[1;31mTypeError\u001b[0m                                 Traceback (most recent call last)",
      "\u001b[1;32m<ipython-input-7-630e91346e0d>\u001b[0m in \u001b[0;36m<module>\u001b[1;34m()\u001b[0m\n\u001b[1;32m----> 1\u001b[1;33m \u001b[0mthird_example\u001b[0m \u001b[1;33m=\u001b[0m \u001b[0mset\u001b[0m\u001b[1;33m(\u001b[0m\u001b[1;33m{\u001b[0m \u001b[1;36m1\u001b[0m\u001b[1;33m:\u001b[0m \u001b[1;34m'hello'\u001b[0m\u001b[1;33m,\u001b[0m \u001b[1;36m2\u001b[0m\u001b[1;33m:\u001b[0m \u001b[1;34m'there'\u001b[0m\u001b[1;33m,\u001b[0m \u001b[1;36m3\u001b[0m\u001b[1;33m:\u001b[0m \u001b[1;34m'you'\u001b[0m \u001b[1;33m}\u001b[0m \u001b[1;33m+\u001b[0m \u001b[1;34m'another value'\u001b[0m \u001b[1;33m)\u001b[0m\u001b[1;33m\u001b[0m\u001b[0m\n\u001b[0m\u001b[0;32m      2\u001b[0m \u001b[0mprint\u001b[0m\u001b[1;33m(\u001b[0m \u001b[0mthird_example\u001b[0m \u001b[1;33m)\u001b[0m\u001b[1;33m\u001b[0m\u001b[0m\n",
      "\u001b[1;31mTypeError\u001b[0m: unsupported operand type(s) for +: 'dict' and 'str'"
     ]
    }
   ],
   "source": [
    "third_example = set({ 1: 'hello', 2: 'there', 3: 'you' } + 'another value' )\n",
    "print( third_example )"
   ]
  }
 ],
 "metadata": {
  "kernelspec": {
   "display_name": "Python 3",
   "language": "python",
   "name": "python3"
  },
  "language_info": {
   "codemirror_mode": {
    "name": "ipython",
    "version": 3
   },
   "file_extension": ".py",
   "mimetype": "text/x-python",
   "name": "python",
   "nbconvert_exporter": "python",
   "pygments_lexer": "ipython3",
   "version": "3.6.3"
  }
 },
 "nbformat": 4,
 "nbformat_minor": 2
}
