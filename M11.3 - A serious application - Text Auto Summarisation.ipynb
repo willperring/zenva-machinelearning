{
 "cells": [
  {
   "cell_type": "code",
   "execution_count": 2,
   "metadata": {
    "collapsed": true
   },
   "outputs": [],
   "source": [
    "# Objective: Take in the URL of a newspaper article (from the Washington Post) [aside: I'm so trying this with the DM as well], \n",
    "# and automatically summarise it in three sentences.\n",
    "#\n",
    "# HOW? Using the NLTK, of course!"
   ]
  },
  {
   "cell_type": "code",
   "execution_count": 4,
   "metadata": {
    "collapsed": true
   },
   "outputs": [],
   "source": [
    "# So what steps will we take?\n",
    "#\n",
    "# 1. Download the contents of the URL.\n",
    "# 2. Extract the Article from all the other HTML that is in the webpage.\n",
    "# 3. Figure out which the 3 most important sentences in the article are.\n",
    "#    i.  Find the most common words in the article, excluding stopwords.\n",
    "#    ii. Find the sentence in which those most common words occur most often."
   ]
  },
  {
   "cell_type": "code",
   "execution_count": 8,
   "metadata": {
    "collapsed": true
   },
   "outputs": [],
   "source": [
    "from bs4 import BeautifulSoup\n",
    "from nltk.tokenize import word_tokenize, sent_tokenize"
   ]
  },
  {
   "cell_type": "code",
   "execution_count": 10,
   "metadata": {
    "collapsed": true
   },
   "outputs": [],
   "source": [
    "def getWashingtonPostText( url, token ):\n",
    "    \n",
    "    try:\n",
    "        page = urllib2.urlopen(url).read().decode('utf8')\n",
    "    except:\n",
    "        return( None, None )\n",
    "    \n",
    "    soup = BeautifulSoup( page )\n",
    "    if soup is None:\n",
    "        return( None, None )\n",
    "    \n",
    "    text = \"\"\n",
    "    if soup.find_all(token) is not None:\n",
    "        text  = ''.join( map(lambda p: p.txt, soup.find_all(token)) )\n",
    "        soup2 = BeautifulSoup( text )\n",
    "        if soup2.find_all('p') is not None:\n",
    "            text = ''.join( map(lambda p: p.text, soup.find_all('p')) )\n",
    "            \n",
    "    return text, soup.title.text"
   ]
  },
  {
   "cell_type": "code",
   "execution_count": 13,
   "metadata": {
    "collapsed": true
   },
   "outputs": [],
   "source": [
    "class FrequencySummarizer:\n",
    "    \n",
    "    def __init__( self, min_cut=0.1, max_cut=0.9 ):\n",
    "        self._min_cut = min_cut\n",
    "        self._max_cut = max_cut\n",
    "        self._stopwords = set( stopwords.words('english')\n",
    "                             + list(punctuation) \n",
    "                             + [u\"'s\", '\"'] )\n",
    "        \n",
    "    def _compute_frequencies( self, word_sent, customStopWords=None ):\n",
    "        freq = defaultdict(int)\n",
    "\n",
    "        if customStopWords is None:\n",
    "            stopwords = set(self._stopwords)\n",
    "        else:\n",
    "            stopwords = set( customStopWords ).union( self._stopwords )\n",
    "\n",
    "        for sentence in word_sent:\n",
    "            for word in sentence:\n",
    "                if words not in stopwords:\n",
    "                    freq[word] += 1\n",
    "        m = float( max(freq.values()) )\n",
    "        for words in freq.keys():\n",
    "            freq[word] = freq[word]/m\n",
    "            if freq[word] >= self._max_cut or freq[word] <= self._min_cut:\n",
    "                del freq[word]\n",
    "\n",
    "        return freq\n",
    "\n",
    "    def summarize( self, article, n ):\n",
    "        text  = article[0]\n",
    "        title = article[1]\n",
    "\n",
    "        sentences = sent_tokenize( text )\n",
    "        word_sent = [ word_tokenize(sent.lower()) for sent in sentences ]\n",
    "\n",
    "        self._freq = self._compute_frequencies( word_sent )\n",
    "        ranking    = defaultdict(int)\n",
    "        \n",
    "        for i, sentence in enumerate(word_sent):\n",
    "            for word in sentence:\n",
    "                if word in self._freq:\n",
    "                    ranking[i] += self._freq[word]\n",
    "                    \n",
    "        sentences_index = nlargest( n, ranking, key=ranking.get )\n",
    "        return [ sents[j] for j in sentences_index ]\n",
    "                \n",
    "        \n",
    "    "
   ]
  },
  {
   "cell_type": "code",
   "execution_count": null,
   "metadata": {
    "collapsed": true
   },
   "outputs": [],
   "source": []
  }
 ],
 "metadata": {
  "kernelspec": {
   "display_name": "Python 3",
   "language": "python",
   "name": "python3"
  },
  "language_info": {
   "codemirror_mode": {
    "name": "ipython",
    "version": 3
   },
   "file_extension": ".py",
   "mimetype": "text/x-python",
   "name": "python",
   "nbconvert_exporter": "python",
   "pygments_lexer": "ipython3",
   "version": "3.6.3"
  }
 },
 "nbformat": 4,
 "nbformat_minor": 2
}
