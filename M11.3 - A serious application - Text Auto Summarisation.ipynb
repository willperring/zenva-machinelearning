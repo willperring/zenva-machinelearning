{
 "cells": [
  {
   "cell_type": "code",
   "execution_count": 187,
   "metadata": {
    "collapsed": true
   },
   "outputs": [],
   "source": [
    "# Objective: Take in the URL of a newspaper article (from the Washington Post) [aside: I'm so trying this with the DM as well], \n",
    "# and automatically summarise it in three sentences.\n",
    "#\n",
    "# HOW? Using the NLTK, of course!"
   ]
  },
  {
   "cell_type": "code",
   "execution_count": 188,
   "metadata": {
    "collapsed": true
   },
   "outputs": [],
   "source": [
    "# So what steps will we take?\n",
    "#\n",
    "# 1. Download the contents of the URL.\n",
    "# 2. Extract the Article from all the other HTML that is in the webpage.\n",
    "# 3. Figure out which the 3 most important sentences in the article are.\n",
    "#    i.  Find the most common words in the article, excluding stopwords.\n",
    "#    ii. Find the sentence in which those most common words occur most often."
   ]
  },
  {
   "cell_type": "code",
   "execution_count": 189,
   "metadata": {
    "collapsed": true
   },
   "outputs": [],
   "source": [
    "import nltk\n",
    "from collections import defaultdict\n",
    "from urllib.request import urlopen\n",
    "from bs4 import BeautifulSoup\n",
    "from nltk.tokenize import word_tokenize, sent_tokenize\n",
    "from nltk.corpus import stopwords\n",
    "from string import punctuation\n",
    "from heapq import nlargest"
   ]
  },
  {
   "cell_type": "code",
   "execution_count": 190,
   "metadata": {
    "collapsed": true
   },
   "outputs": [],
   "source": [
    "def getPageText( url, token ):\n",
    "    \n",
    "    try:\n",
    "        page = urlopen(url).read().decode('utf8')\n",
    "    except:\n",
    "        return( None, None )\n",
    "    \n",
    "    soup = BeautifulSoup( page, 'html.parser' )\n",
    "    if soup is None:\n",
    "        return( None, None )\n",
    "    \n",
    "    text = \"\"\n",
    "    if soup.find_all(token) is not None:\n",
    "        text  = ' '.join( map(lambda p: p.text.replace(u'\\xa0', ' '), soup.find_all(token)) )\n",
    "        soup2 = BeautifulSoup( text )\n",
    "        if soup2.find_all('p') is not None:\n",
    "            text = ''.join( map(lambda p: p.text, soup.find_all('p')) )\n",
    "            \n",
    "    return text, soup.title.text"
   ]
  },
  {
   "cell_type": "code",
   "execution_count": 191,
   "metadata": {
    "collapsed": true
   },
   "outputs": [],
   "source": [
    "class FrequencySummarizer:\n",
    "    \n",
    "    def __init__( self, min_cut=0.1, max_cut=0.9 ):\n",
    "        self._min_cut = min_cut\n",
    "        self._max_cut = max_cut\n",
    "        self._stopwords = set( stopwords.words('english')\n",
    "                             + list(punctuation) \n",
    "                             + [u\"'s\",'\"']\n",
    "                             + ['‘','’','-','–','“','”'] ) # these were added as a result of a successful run!\n",
    "        self._freq_output = None\n",
    "        \n",
    "    def _compute_frequencies( self, word_sent, customStopWords=None ):\n",
    "        freq = defaultdict(int)\n",
    "\n",
    "        if customStopWords is None:\n",
    "            stopwords = set( self._stopwords )\n",
    "        else:\n",
    "            stopwords = set( customStopWords ).union( self._stopwords )\n",
    "\n",
    "        for sentence in word_sent:\n",
    "            for word in sentence:\n",
    "                if word not in stopwords:\n",
    "                    freq[word] += 1\n",
    "        m = float( max(freq.values()) )\n",
    "        for words in freq.keys():\n",
    "            freq[word] = freq[word]/m\n",
    "            if freq[word] >= self._max_cut or freq[word] <= self._min_cut:\n",
    "                del freq[word]\n",
    "        \n",
    "        self._freq_output = freq\n",
    "        return freq\n",
    "\n",
    "    def summarize( self, article, n ):\n",
    "        text  = article[0]\n",
    "        title = article[1]\n",
    "\n",
    "        sentences = sent_tokenize( text )\n",
    "        word_sent = [ word_tokenize(sent.lower()) for sent in sentences ]\n",
    "\n",
    "        self._freq = self._compute_frequencies( word_sent )\n",
    "        ranking    = defaultdict(int)\n",
    "        \n",
    "        for i, sentence in enumerate(word_sent):\n",
    "            for word in sentence:\n",
    "                if word in self._freq:\n",
    "                    ranking[i] += self._freq[word]\n",
    "                    \n",
    "        sentences_index = nlargest( n, ranking, key=ranking.get )\n",
    "        return [ sentences[j] for j in sentences_index ]\n",
    "\n",
    "    def get_freq_output( self ):\n",
    "        return self._freq_output\n",
    "        \n",
    "    "
   ]
  },
  {
   "cell_type": "code",
   "execution_count": 192,
   "metadata": {},
   "outputs": [
    {
     "name": "stdout",
     "output_type": "stream",
     "text": [
      "It’s now been nearly three years since The Ex walked out, and Lucy is fucking fed up with dating apps. All she ever seems to do is spend a hundred hours a day swiping, waiting for responses from guys who can’t be arsed, and going on mediocre dates with morons with whom she has nothing in common. Lucy is about 99% convinced that dating apps are going to cause the obliteration of the entire human race. So she decides to try a different tack, and give paid-for dating websites another chance instead. After all, she met The Ex on Match.com, and that worked out ok… at least, until it didn’t. And in the first year after he left, she joined Guardian Soulmates and met two nice guys. Neither lasted long term, but at least they were good enough to play with for a few months – and she even got some actual sex into the bargain. The apps, on the other hand, have been an unmitigated disaster. In the last 18 months Lucy has probably been on close to 50 first dates, and not a single one has got anywhere near anything resembling a relationship. The only person she’s shagged from a dating app is Peter, and he doesn’t count. Conclusion: dating apps are not for Lucy. The lack of information, the lack of commitment, the inane pointless messages, the ghosting – in short, the mind-blowing numbers of total fuckboys lurking therein… Nope, she thinks, dating apps are the seventh circle of hell and I would rather chop off both my thumbs than swipe even one more time. Instead, she decides to rejoin Guardian Soulmates. She figures that since most of the site’s users will be readers of the Guardian newspaper, they are likely to be more intelligent, better educated, and more likely to share her values and outlook than the average Joe on a dating app. Plus, if they are paying actual money to be there, they’ll hopefully be more committed to seriously dating and less likely to dick her about. Which would be nice. Lucy is just a tad fed up of being dicked about.  So she reactivates her profile, pays for a month, and goes shopping. The first obvious advantage of the site is that it has a huge range of filters you can search by. Unlike dating apps, where any slimy bottom-feeder can pass himself off as catch of the day simply by typing ‘no hookups, 6’3‘ into his profile, on Soulmates, it’s possible to drill down much deeper in the search for the right guy. Lucy is able to filter by age, height, religion, level of education, whether he has kids, even things like hair colour and eye colour – it’s a bit like one of those Build-A-Bear workshops for kids, except instead of customising a stuffed animal, Lucy is designing a toy for more adult-style cuddles. So out of curiosity, she clicks ALL the filters, and creates her perfect man. Tall, slim, educated, mid-30s to mid-40s, no kids, non-religious, living within 15 miles of her home, and looking for a serious relationship. While Lucy knows she needs to be open-minded about who her future partner might be, now is not the time. She wants to see if her dream guy is out there, and more importantly, if he’s single. So she ticks all the boxes in the hope of finding a man who, well, ticks all her boxes… and hits enter. The website comes back with over two dozen matches. That’s more than twenty single men who could be Lucy’s perfect partner! Lucy likes those odds. Surely the future love of her life is hiding in there somewhere. But which one is he? At this point Lucy has two options. She could read each profile individually and then send the ones she likes the sound of a chatty message. Or to save time and effort, she could give each of them a little nudge, and then see who responds. This seems much more efficient, and Lucy is a great lover of efficiency, particularly since there’s a chance many of these guys might not even have a subscription. Plus, she thinks, by not reading the profiles, I’m reducing the risk of being put off by some insignificant detail. Better to give them all a fair shot.  Lucy is definitely just trying to be fair. Nothing to do with laziness. No, not at all. So in the interests of fairness (definitely not laziness), she doesn’t bother clicking into the profiles. She simply clicks ‘like’ on each and every thumbnail on the page, and waits to see what will happen. And just a day later, something does. LongLeggedJules sends her a message. LongLeggedJules has, as the name suggests, long legs. And is also, probably, called Jules, though he signs off his email ‘LLJ x’ so Lucy can’t be 100% sure at this stage. But that doesn’t really matter, because it’s a good message. He’s clearly read her profile and picked up on several things she’s mentioned – for example her hatred of the expression ‘LOL’, and the fact that she does spinning. It’s long, but here’s a snippet: There’s more, and all of it is interested, and witty, and engaging. Lucy can’t quite believe it. Could she already have found The One so soon?! She needs to know more about this potentially perfect man, so she clicks into his profile. And immediately her euphoria screeches to an abrupt halt. He. Has. Long. Hair. Not just ‘needs a bit of a trim’ long. Not even ‘so happy to have hair when most men my age are balding that I’m going to grow it out just to show off’ long. This hair is ‘12-year-old girl’ long. It’s ‘I’m in an 80s rock band’ long. In each of the photos the hair is on full display, luscious and flowing, with Jules posing underneath it like a member of the Chippendales strip group, except with his shirt still on. How could she have missed this?  Lucy looks again at his profile and immediately sees how. In the thumbnail that she saw, Jules’ dark hair is tied back, and against a black background it’s impossible to see that he has a ponytail. Lucy’s attempt at fairness and efficiency (not laziness, you understand) has backfired rather dramatically. But why? Why would a grown man do this to himself? Is he some kind of ageing rocker? Having a midlife crisis? She scrolls through the profile again and sure enough, there it is: he’s in a band. He doesn’t say what sort of band, but it involves playing at festivals. Clearly Jules is just a touch too cool for school. So what should she do? She looks at the message again. It is a good message. And apart from the hair, he has a good profile. Maybe she should give him a chance. Stop being so prescriptive. Maybe the man she is destined to end up with is nothing like the picture she has in her mind. Just because she has always previously gone for clean-cut geeky white boys doesn’t mean she couldn’t be well-suited to an Asian guy with a Guns’n’Roses obsession. Does it? Plus, of course, hair can always be cut… So Lucy decides it’s time to start taking chances. She replies, and quickly gets a response. So he’s fit and ought to be in good shape. Check. Is he a touch pretentious? Hard to tell, maybe he’s just intelligent. Lucy decides to give him the benefit of the doubt. Jules ends his message with a joke about catfishing.  Lucy likes that he appears to have a sense of humour, which is nice. But there’s still the issue of the whole rock band / long hair thing. Lucy thinks she probably ought to warn him that’s not really her style.  Start dropping hints early, as it were, so that later on when they’ve been dating for a while and she asks him to cut his hair before introducing him to any of her friends, it doesn’t come as quite so much of a shock…  But Jules doesn’t actually seem too bothered by Lucy’s confession. Things are looking up. She’s not going to be forced to go camping in the mud after all. And it would be quite cool to have a boyfriend who is in a band… So when Jules asks for her number so they can arrange to meet up, she hands it over.  And is extremely surprised when, the next day, he phones. (Gasp) Lucy has just finished a call to a friend and still has the phone in her hand when it rings. An unrecognised mobile number. Normally she’d let it go to voicemail in case it’s someone offering to help her claim for that workplace accident she had recently, but for some reason, before she has time to think, she’s answered. “Hello, Lucy speaking?”\n",
      "“Lucy, hello, it’s Jules… from Soulmates…”\n",
      "“Oh! Um…. hello….” Jules is friendly and chatty, and has a nice voice. Lucy is impressed. A man who has the balls to actually pick up the phone and call a girl – and who can hold a conversation? This is a rare find indeed! They agree to meet for a drink the following week, and Lucy is cautiously optimistic. She knows he’s tall, nice-looking, and intelligent. He’s got the gumption to call, and can hold a conversation. And he’s interested in her. Maybe things are finally looking up in her disastrous love life. Except for the small matter of the hair. (To be continued…)\n"
     ]
    }
   ],
   "source": [
    "# a slight diversion, as we need to go to python3, and the Washington Post is now behind a paywall.\n",
    "# because of twitter - we have a replacement! Thanks, Lucy..!\n",
    "html = urlopen('http://www.lucygoesdating.com/2018/01/the-one-with-long-hair-part-1-soulmates/').read().decode('utf8') \n",
    "soup = BeautifulSoup( html, 'html.parser' )\n",
    "\n",
    "article = soup.find('div', { 'class': 'entry-content' })\n",
    "\n",
    "# this is one way to do the extract and join...\n",
    "paras   = ' '.join([ p.text.replace(u'\\xa0', '') for p in article.find_all('p') ])\n",
    "#print( paras )\n",
    "\n",
    "# and this is another...\n",
    "text    = ' '.join(map( lambda p: p.text.replace(u'\\xa0', ' ').replace('  ', ' '), article.find_all('p') ))\n",
    "print( text )\n",
    "\n",
    "# and it works! bloody marvellous."
   ]
  },
  {
   "cell_type": "code",
   "execution_count": 197,
   "metadata": {},
   "outputs": [
    {
     "name": "stdout",
     "output_type": "stream",
     "text": [
      "Lucy is able to filter by age, height, religion, level of education, whether he has kids, even things like hair colour and eye colour – it’s a bit like one of those Build-A-Bear workshops for kids, except instead of customising a stuffed animal, Lucy is designing a toy for more adult-style cuddles. Start dropping hints early, as it were, so that later on when they’ve been dating for a while and she asks him to cut his hair before introducing him to any of her friends, it doesn’t come as quite so much of a shock…  But Jules doesn’t actually seem too bothered by Lucy’s confession. The lack of information, the lack of commitment, the inane pointless messages, the ghosting – in short, the mind-blowing numbers of total fuckboys lurking therein… Nope, she thinks, dating apps are the seventh circle of hell and I would rather chop off both my thumbs than swipe even one more time.\n"
     ]
    }
   ],
   "source": [
    "# right, so we'll skip over the crawler function for now, given we have some source material...\n",
    "# does our summarizer work?\n",
    "\n",
    "s = FrequencySummarizer()\n",
    "\n",
    "# I'm reluctant to even run this...\n",
    "key3 = s.summarize( [text, 'Article Title'], 3 )\n",
    "print( ' '.join(key3) )"
   ]
  },
  {
   "cell_type": "code",
   "execution_count": 194,
   "metadata": {},
   "outputs": [
    {
     "name": "stdout",
     "output_type": "stream",
     "text": [
      "lucy: 27\n",
      "hair: 11\n",
      "dating: 10\n",
      "long: 9\n",
      "profile: 8\n",
      "jules: 8\n",
      "apps: 6\n",
      "man: 6\n",
      "message: 6\n"
     ]
    }
   ],
   "source": [
    "# I'm curious to know what our dictionary determined was important...\n",
    "dictionary  = s.get_freq_output()\n",
    "sortedwords = [(k, dictionary[k]) for k in sorted(dictionary, key=dictionary.get, reverse=True)] \n",
    "for key, value in sortedwords:\n",
    "    if value > 5:\n",
    "        print(\"%s: %s\" % (key, value ))\n",
    "# this actually taught us that we need to remove some more punctuation... \n",
    "# update: and holy shit, it actually affected the summary above! good stuff..."
   ]
  }
 ],
 "metadata": {
  "kernelspec": {
   "display_name": "Python 3",
   "language": "python",
   "name": "python3"
  },
  "language_info": {
   "codemirror_mode": {
    "name": "ipython",
    "version": 3
   },
   "file_extension": ".py",
   "mimetype": "text/x-python",
   "name": "python",
   "nbconvert_exporter": "python",
   "pygments_lexer": "ipython3",
   "version": "3.6.3"
  }
 },
 "nbformat": 4,
 "nbformat_minor": 2
}
