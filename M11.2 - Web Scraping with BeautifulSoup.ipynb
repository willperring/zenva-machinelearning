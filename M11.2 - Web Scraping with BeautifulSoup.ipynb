{
 "cells": [
  {
   "cell_type": "code",
   "execution_count": 1,
   "metadata": {
    "collapsed": true
   },
   "outputs": [],
   "source": [
    "from bs4 import BeautifulSoup\n",
    "\n",
    "# spoof some html\n",
    "html=\"\"\"\n",
    "<html>\n",
    "<head>\n",
    "    <title>Mock Html Page</title>\n",
    "</head>\n",
    "<body>\n",
    "    <h1 style=\"font-weight: bold; color: red;\">Heading</h1>\n",
    "    <div class=\"content\">\n",
    "        <p>Paragraph text goes here</p>\n",
    "        <a href=\"http://google.com\">\n",
    "            Search on Google\n",
    "        </a>\n",
    "        <img src=\"/images/image.gif\" />\n",
    "    </div>\n",
    "</body>\n",
    "\"\"\""
   ]
  },
  {
   "cell_type": "code",
   "execution_count": 2,
   "metadata": {
    "collapsed": true
   },
   "outputs": [],
   "source": [
    "soup = BeautifulSoup( html, \"html.parser\" )"
   ]
  },
  {
   "cell_type": "code",
   "execution_count": 3,
   "metadata": {},
   "outputs": [
    {
     "name": "stdout",
     "output_type": "stream",
     "text": [
      "<html>\n",
      " <head>\n",
      "  <title>\n",
      "   Mock Html Page\n",
      "  </title>\n",
      " </head>\n",
      " <body>\n",
      "  <h1 style=\"font-weight: bold; color: red;\">\n",
      "   Heading\n",
      "  </h1>\n",
      "  <div class=\"content\">\n",
      "   <p>\n",
      "    Paragraph text goes here\n",
      "   </p>\n",
      "   <a href=\"http://google.com\">\n",
      "    Search on Google\n",
      "   </a>\n",
      "   <img src=\"/images/image.gif\"/>\n",
      "  </div>\n",
      " </body>\n",
      "</html>\n"
     ]
    }
   ],
   "source": [
    "# make it look nice, innit\n",
    "print( soup.prettify() )"
   ]
  },
  {
   "cell_type": "code",
   "execution_count": 4,
   "metadata": {},
   "outputs": [
    {
     "data": {
      "text/plain": [
       "<html>\n",
       "<head>\n",
       "<title>Mock Html Page</title>\n",
       "</head>\n",
       "<body>\n",
       "<h1 style=\"font-weight: bold; color: red;\">Heading</h1>\n",
       "<div class=\"content\">\n",
       "<p>Paragraph text goes here</p>\n",
       "<a href=\"http://google.com\">\n",
       "            Search on Google\n",
       "        </a>\n",
       "<img src=\"/images/image.gif\"/>\n",
       "</div>\n",
       "</body>\n",
       "</html>"
      ]
     },
     "execution_count": 4,
     "metadata": {},
     "output_type": "execute_result"
    }
   ],
   "source": [
    "soup.html"
   ]
  },
  {
   "cell_type": "code",
   "execution_count": 5,
   "metadata": {},
   "outputs": [
    {
     "data": {
      "text/plain": [
       "<head>\n",
       "<title>Mock Html Page</title>\n",
       "</head>"
      ]
     },
     "execution_count": 5,
     "metadata": {},
     "output_type": "execute_result"
    }
   ],
   "source": [
    "soup.head"
   ]
  },
  {
   "cell_type": "code",
   "execution_count": 6,
   "metadata": {},
   "outputs": [
    {
     "data": {
      "text/plain": [
       "'body'"
      ]
     },
     "execution_count": 6,
     "metadata": {},
     "output_type": "execute_result"
    }
   ],
   "source": [
    "soup.body.name"
   ]
  },
  {
   "cell_type": "code",
   "execution_count": 7,
   "metadata": {},
   "outputs": [
    {
     "data": {
      "text/plain": [
       "<p>Paragraph text goes here</p>"
      ]
     },
     "execution_count": 7,
     "metadata": {},
     "output_type": "execute_result"
    }
   ],
   "source": [
    "soup.p"
   ]
  },
  {
   "cell_type": "code",
   "execution_count": 8,
   "metadata": {},
   "outputs": [
    {
     "data": {
      "text/plain": [
       "['\\n',\n",
       " <h1 style=\"font-weight: bold; color: red;\">Heading</h1>,\n",
       " '\\n',\n",
       " <div class=\"content\">\n",
       " <p>Paragraph text goes here</p>\n",
       " <a href=\"http://google.com\">\n",
       "             Search on Google\n",
       "         </a>\n",
       " <img src=\"/images/image.gif\"/>\n",
       " </div>,\n",
       " '\\n']"
      ]
     },
     "execution_count": 8,
     "metadata": {},
     "output_type": "execute_result"
    }
   ],
   "source": [
    "# smush those elements together!\n",
    "soup.body.contents"
   ]
  },
  {
   "cell_type": "code",
   "execution_count": 9,
   "metadata": {},
   "outputs": [
    {
     "data": {
      "text/plain": [
       "'\\nHeading\\n\\nParagraph text goes here\\n\\n            Search on Google\\n        \\n\\n\\n'"
      ]
     },
     "execution_count": 9,
     "metadata": {},
     "output_type": "execute_result"
    }
   ],
   "source": [
    "# even less helpful?\n",
    "soup.body.text"
   ]
  },
  {
   "cell_type": "code",
   "execution_count": 10,
   "metadata": {},
   "outputs": [
    {
     "data": {
      "text/plain": [
       "'\\n'"
      ]
     },
     "execution_count": 10,
     "metadata": {},
     "output_type": "execute_result"
    }
   ],
   "source": [
    "# also not massively helpful\n",
    "soup.h1.nextSibling"
   ]
  },
  {
   "cell_type": "code",
   "execution_count": 11,
   "metadata": {},
   "outputs": [
    {
     "data": {
      "text/plain": [
       "<div class=\"content\">\n",
       "<p>Paragraph text goes here</p>\n",
       "<a href=\"http://google.com\">\n",
       "            Search on Google\n",
       "        </a>\n",
       "<img src=\"/images/image.gif\"/>\n",
       "</div>"
      ]
     },
     "execution_count": 11,
     "metadata": {},
     "output_type": "execute_result"
    }
   ],
   "source": [
    "soup.h1.nextSibling.nextSibling"
   ]
  },
  {
   "cell_type": "code",
   "execution_count": 12,
   "metadata": {
    "collapsed": true
   },
   "outputs": [],
   "source": [
    "# lets get a better example of html\n",
    "html = \"\"\"\n",
    "<html>\n",
    "<head><title>Another Version</title></head>\n",
    "<body>\n",
    "    <div class=\"content\">\n",
    "        <h1 id=\"heading\">This is a heading</h1>\n",
    "        <p class=\"strapline\">This will be more prominent</p>\n",
    "        <p>Here is yet another paragraph about something</p>\n",
    "        <p>It goes on, and on, and on</p>\n",
    "        <p>This one even includes a link <a href=\"/path\">to another page</a> so you can link out</p>\n",
    "        <p class=\"class1 class2 class3\">Multiple Classes here, mate</p>\n",
    "    </div>\n",
    "    <a class=\"footerlink\" href=\"//www.google.com\">Go to Google</a>\n",
    "</body>\n",
    "</html>\"\"\""
   ]
  },
  {
   "cell_type": "code",
   "execution_count": 13,
   "metadata": {
    "collapsed": true
   },
   "outputs": [],
   "source": [
    "soup2 = BeautifulSoup( html, 'html.parser' )"
   ]
  },
  {
   "cell_type": "code",
   "execution_count": 14,
   "metadata": {},
   "outputs": [
    {
     "name": "stdout",
     "output_type": "stream",
     "text": [
      "<html>\n",
      " <head>\n",
      "  <title>\n",
      "   Another Version\n",
      "  </title>\n",
      " </head>\n",
      " <body>\n",
      "  <div class=\"content\">\n",
      "   <h1 id=\"heading\">\n",
      "    This is a heading\n",
      "   </h1>\n",
      "   <p class=\"strapline\">\n",
      "    This will be more prominent\n",
      "   </p>\n",
      "   <p>\n",
      "    Here is yet another paragraph about something\n",
      "   </p>\n",
      "   <p>\n",
      "    It goes on, and on, and on\n",
      "   </p>\n",
      "   <p>\n",
      "    This one even includes a link\n",
      "    <a href=\"/path\">\n",
      "     to another page\n",
      "    </a>\n",
      "    so you can link out\n",
      "   </p>\n",
      "   <p class=\"class1 class2 class3\">\n",
      "    Multiple Classes here, mate\n",
      "   </p>\n",
      "  </div>\n",
      "  <a class=\"footerlink\" href=\"//www.google.com\">\n",
      "   Go to Google\n",
      "  </a>\n",
      " </body>\n",
      "</html>\n"
     ]
    }
   ],
   "source": [
    "print( soup2.prettify() )"
   ]
  },
  {
   "cell_type": "code",
   "execution_count": 15,
   "metadata": {},
   "outputs": [
    {
     "data": {
      "text/plain": [
       "<a href=\"/path\">to another page</a>"
      ]
     },
     "execution_count": 15,
     "metadata": {},
     "output_type": "execute_result"
    }
   ],
   "source": [
    "# so this is interesting - it only picks up the first one?\n",
    "soup2.a"
   ]
  },
  {
   "cell_type": "code",
   "execution_count": 16,
   "metadata": {},
   "outputs": [
    {
     "data": {
      "text/plain": [
       "<p class=\"strapline\">This will be more prominent</p>"
      ]
     },
     "execution_count": 16,
     "metadata": {},
     "output_type": "execute_result"
    }
   ],
   "source": [
    "# ... same here.\n",
    "soup2.p"
   ]
  },
  {
   "cell_type": "code",
   "execution_count": 17,
   "metadata": {},
   "outputs": [
    {
     "data": {
      "text/plain": [
       "[<a href=\"/path\">to another page</a>,\n",
       " <a class=\"footerlink\" href=\"//www.google.com\">Go to Google</a>]"
      ]
     },
     "execution_count": 17,
     "metadata": {},
     "output_type": "execute_result"
    }
   ],
   "source": [
    "soup2.findAll('a')"
   ]
  },
  {
   "cell_type": "code",
   "execution_count": 18,
   "metadata": {},
   "outputs": [
    {
     "data": {
      "text/plain": [
       "<p class=\"strapline\">This will be more prominent</p>"
      ]
     },
     "execution_count": 18,
     "metadata": {},
     "output_type": "execute_result"
    }
   ],
   "source": [
    "soup2.find('p')"
   ]
  },
  {
   "cell_type": "code",
   "execution_count": 19,
   "metadata": {},
   "outputs": [
    {
     "data": {
      "text/plain": [
       "<a href=\"/path\">to another page</a>"
      ]
     },
     "execution_count": 19,
     "metadata": {},
     "output_type": "execute_result"
    }
   ],
   "source": [
    "soup2.find('a')"
   ]
  },
  {
   "cell_type": "code",
   "execution_count": 20,
   "metadata": {
    "collapsed": true
   },
   "outputs": [],
   "source": [
    "# CSS selector syntax is not a thing, it seems.\n",
    "soup2.find('a.footerlink')"
   ]
  },
  {
   "cell_type": "code",
   "execution_count": 21,
   "metadata": {},
   "outputs": [
    {
     "name": "stdout",
     "output_type": "stream",
     "text": [
      "This will be more prominent Here is yet another paragraph about something It goes on, and on, and on This one even includes a link to another page so you can link out Multiple Classes here, mate\n"
     ]
    }
   ],
   "source": [
    "paras = ' '.join( [p.text for p in soup2.findAll('p')] )\n",
    "print( paras )"
   ]
  },
  {
   "cell_type": "code",
   "execution_count": 22,
   "metadata": {},
   "outputs": [
    {
     "data": {
      "text/plain": [
       "[<a class=\"footerlink\" href=\"//www.google.com\">Go to Google</a>]"
      ]
     },
     "execution_count": 22,
     "metadata": {},
     "output_type": "execute_result"
    }
   ],
   "source": [
    "# so THAT's how you do a class lookup.\n",
    "soup2.findAll('a', {\"class\":\"footerlink\"})"
   ]
  },
  {
   "cell_type": "code",
   "execution_count": 23,
   "metadata": {},
   "outputs": [
    {
     "data": {
      "text/plain": [
       "[<h1 id=\"heading\">This is a heading</h1>]"
      ]
     },
     "execution_count": 23,
     "metadata": {},
     "output_type": "execute_result"
    }
   ],
   "source": [
    "# IDs are a bit easier.\n",
    "soup2.findAll(id='heading')"
   ]
  },
  {
   "cell_type": "code",
   "execution_count": 24,
   "metadata": {},
   "outputs": [
    {
     "data": {
      "text/plain": [
       "[]"
      ]
     },
     "execution_count": 24,
     "metadata": {},
     "output_type": "execute_result"
    }
   ],
   "source": [
    "# We'll refer back to the first one to do a style lookup\n",
    "soup.findAll(style=\"font-weight: bold;\")"
   ]
  },
  {
   "cell_type": "code",
   "execution_count": 25,
   "metadata": {},
   "outputs": [
    {
     "data": {
      "text/plain": [
       "[<h1 style=\"font-weight: bold; color: red;\">Heading</h1>]"
      ]
     },
     "execution_count": 25,
     "metadata": {},
     "output_type": "execute_result"
    }
   ],
   "source": [
    "# So it has to be a complete attribute match\n",
    "soup.findAll(style=\"font-weight: bold; color: red;\")"
   ]
  },
  {
   "cell_type": "code",
   "execution_count": 26,
   "metadata": {},
   "outputs": [
    {
     "data": {
      "text/plain": [
       "[<p class=\"strapline\">This will be more prominent</p>,\n",
       " <p>Here is yet another paragraph about something</p>,\n",
       " <p>It goes on, and on, and on</p>,\n",
       " <p>This one even includes a link <a href=\"/path\">to another page</a> so you can link out</p>,\n",
       " <a href=\"/path\">to another page</a>,\n",
       " <p class=\"class1 class2 class3\">Multiple Classes here, mate</p>,\n",
       " <a class=\"footerlink\" href=\"//www.google.com\">Go to Google</a>]"
      ]
     },
     "execution_count": 26,
     "metadata": {},
     "output_type": "execute_result"
    }
   ],
   "source": [
    "# can lookup via a list\n",
    "soup2.findAll( ['p', 'a'] )"
   ]
  },
  {
   "cell_type": "code",
   "execution_count": 27,
   "metadata": {},
   "outputs": [
    {
     "data": {
      "text/plain": [
       "[<p class=\"strapline\">This will be more prominent</p>,\n",
       " <p>Here is yet another paragraph about something</p>,\n",
       " <p>It goes on, and on, and on</p>,\n",
       " <p>This one even includes a link <a href=\"/path\">to another page</a> so you can link out</p>,\n",
       " <a href=\"/path\">to another page</a>,\n",
       " <p class=\"class1 class2 class3\">Multiple Classes here, mate</p>,\n",
       " <a class=\"footerlink\" href=\"//www.google.com\">Go to Google</a>]"
      ]
     },
     "execution_count": 27,
     "metadata": {},
     "output_type": "execute_result"
    }
   ],
   "source": [
    "# or a dictionary\n",
    "soup2.findAll({ 'p': True, 'a': True })"
   ]
  },
  {
   "cell_type": "code",
   "execution_count": 28,
   "metadata": {},
   "outputs": [
    {
     "name": "stdout",
     "output_type": "stream",
     "text": [
      "<a href=\"/path\">to another page</a>\n"
     ]
    }
   ],
   "source": [
    "# finding links, for example...\n",
    "links = soup2.find('a')\n",
    "\n",
    "print( links )"
   ]
  },
  {
   "cell_type": "code",
   "execution_count": 29,
   "metadata": {},
   "outputs": [
    {
     "data": {
      "text/plain": [
       "[<p class=\"strapline\">This will be more prominent</p>,\n",
       " <p>Here is yet another paragraph about something</p>]"
      ]
     },
     "execution_count": 29,
     "metadata": {},
     "output_type": "execute_result"
    }
   ],
   "source": [
    "# apparently, findAll has a limit...\n",
    "soup2.findAll('p', limit=2)"
   ]
  },
  {
   "cell_type": "code",
   "execution_count": 30,
   "metadata": {},
   "outputs": [
    {
     "name": "stdout",
     "output_type": "stream",
     "text": [
      "/path is captioned to another page and is a tag of type a\n"
     ]
    }
   ],
   "source": [
    "# href gets special treatment, it seems.\n",
    "print( links['href'] + \" is captioned \" + links.text + \" and is a tag of type \" + links.name )"
   ]
  },
  {
   "cell_type": "code",
   "execution_count": 31,
   "metadata": {},
   "outputs": [
    {
     "data": {
      "text/plain": [
       "<a class=\"footerlink\" href=\"//www.google.com\">Go to Google</a>"
      ]
     },
     "execution_count": 31,
     "metadata": {},
     "output_type": "execute_result"
    }
   ],
   "source": [
    "links.findNext('a')"
   ]
  },
  {
   "cell_type": "code",
   "execution_count": 33,
   "metadata": {},
   "outputs": [
    {
     "data": {
      "text/plain": [
       "[<p class=\"strapline\">This will be more prominent</p>,\n",
       " <p>Here is yet another paragraph about something</p>,\n",
       " <p>It goes on, and on, and on</p>,\n",
       " <p>This one even includes a link <a href=\"/path\">to another page</a> so you can link out</p>,\n",
       " <p class=\"class1 class2 class3\">Multiple Classes here, mate</p>]"
      ]
     },
     "execution_count": 33,
     "metadata": {},
     "output_type": "execute_result"
    }
   ],
   "source": [
    "# equivalent to findAll() in the body.\n",
    "soup2.body('p')"
   ]
  },
  {
   "cell_type": "code",
   "execution_count": 35,
   "metadata": {},
   "outputs": [
    {
     "data": {
      "text/plain": [
       "<p class=\"class1 class2 class3\">Multiple Classes here, mate</p>"
      ]
     },
     "execution_count": 35,
     "metadata": {},
     "output_type": "execute_result"
    }
   ],
   "source": [
    "# what about isolating classes within larger class lists?\n",
    "soup2.find('p', {'class': 'class1'})"
   ]
  },
  {
   "cell_type": "code",
   "execution_count": null,
   "metadata": {
    "collapsed": true
   },
   "outputs": [],
   "source": []
  }
 ],
 "metadata": {
  "kernelspec": {
   "display_name": "Python 3",
   "language": "python",
   "name": "python3"
  },
  "language_info": {
   "codemirror_mode": {
    "name": "ipython",
    "version": 3
   },
   "file_extension": ".py",
   "mimetype": "text/x-python",
   "name": "python",
   "nbconvert_exporter": "python",
   "pygments_lexer": "ipython3",
   "version": "3.6.3"
  }
 },
 "nbformat": 4,
 "nbformat_minor": 2
}
